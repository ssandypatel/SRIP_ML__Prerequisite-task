{
  "nbformat": 4,
  "nbformat_minor": 0,
  "metadata": {
    "colab": {
      "provenance": []
    },
    "kernelspec": {
      "name": "python3",
      "display_name": "Python 3"
    },
    "language_info": {
      "name": "python"
    }
  },
  "cells": [
    {
      "cell_type": "code",
      "execution_count": 23,
      "metadata": {
        "id": "cPin-rGXlN2H"
      },
      "outputs": [],
      "source": [
        "import jax\n",
        "import numpy as np\n",
        "import jax.numpy as jnp\n",
        "import pandas as pd\n",
        "import matplotlib.pyplot as plt\n",
        "from scipy.stats import kde\n",
        "import math"
      ]
    },
    {
      "cell_type": "markdown",
      "source": [
        "\n",
        "\n",
        "```\n",
        "\n",
        "```\n",
        "\n",
        "# Question 01"
      ],
      "metadata": {
        "id": "DfkisTflVPI1"
      }
    },
    {
      "cell_type": "code",
      "source": [
        "\n",
        "#Frechet pdf function\n",
        "def get_frechet_pdf(x,alpha, beta, gama=0):\n",
        "    y = (alpha/beta) * (((x-gama)/beta)**(-1-alpha)) * np.exp(- ((x-gama)/beta)**(-alpha) )\n",
        "    return y\n",
        "\n",
        "#Frechet cdf function\n",
        "def get_frechet_cdf(x,alpha, beta, gama):\n",
        "  return np.exp(-((x-gama)/beta)**alpha)\n",
        "\n",
        "#Frechet inverse cdf function\n",
        "def get_frechet_inverse_cdf(p, alpha, beta, gama):\n",
        "    return gama + beta*(-np.log(p))**(-1/alpha)\n",
        "\n",
        "# Parameters \n",
        "alpha = 2.0\n",
        "beta = 1.0\n",
        "gama = 0.0\n",
        "\n",
        "# Generate uniform random values between 0 and 1\n",
        "n = 10000\n",
        "u = np.random.uniform(size=n)\n",
        "\n",
        "# Compute the quantile function for the Fréchet distribution\n",
        "x = get_frechet_inverse_cdf(u, alpha, beta, gama)\n",
        "# print(x)\n",
        "x_vals = np.linspace(np.min(x), np.max(x), 200)\n",
        "\n",
        "# Plot the kernel density estimation plot\n",
        "density = kde.gaussian_kde(x)\n",
        "plt.plot(x_vals, density(x_vals), label='Kernel Density Estimation',color = 'green')\n",
        "\n",
        "# Plot the true PDF of the Fréchet distribution\n",
        "plt.plot(x_vals, get_frechet_pdf(x_vals, alpha,beta, gama), label='Frechet Distribution PDF', color = 'red')\n",
        "plt.legend()\n",
        "plt.show()\n"
      ],
      "metadata": {
        "colab": {
          "base_uri": "https://localhost:8080/",
          "height": 301
        },
        "id": "qrlBcQ7-m3Sy",
        "outputId": "b118db21-f0d6-4b8a-ea1f-fca313929514"
      },
      "execution_count": null,
      "outputs": [
        {
          "output_type": "stream",
          "name": "stderr",
          "text": [
            "<ipython-input-12-50286a4a7bcc>:29: DeprecationWarning: Please use `gaussian_kde` from the `scipy.stats` namespace, the `scipy.stats.kde` namespace is deprecated.\n",
            "  density = kde.gaussian_kde(x)\n"
          ]
        },
        {
          "output_type": "display_data",
          "data": {
            "text/plain": [
              "<Figure size 432x288 with 1 Axes>"
            ],
            "image/png": "[encoded data removed]"
          },
          "metadata": {
            "needs_background": "light"
          }
        }
      ]
    },
    {
      "cell_type": "code",
      "source": [
        "x = np.linspace(0,5,10**5) \n",
        "fig = plt.figure()\n",
        "ax = fig.add_subplot(111)\n",
        "ax.plot(x,get_frechet_pdf(x,1.,1.),label=r'$\\alpha=1;$ $\\beta=1$', linewidth=2,color='red')\n",
        "ax.plot(x,get_frechet_pdf(x,2.,1.),label=r'$\\alpha=2;$ $\\beta=1$', linewidth=2,color='green')\n",
        "ax.plot(x,get_frechet_pdf(x,3.,1.),label=r'$\\alpha=3;$ $\\beta=1$', linewidth=2,color='blue')\n",
        "ax.plot(x,get_frechet_pdf(x,1.,2.),label=r'$\\alpha=1;$ $\\beta=2$', linewidth=2, color='orange')\n",
        "ax.plot(x,get_frechet_pdf(x,2.,2.),label=r'$\\alpha=2;$ $\\beta=2$', linewidth=2, color='yellow')\n",
        "ax.plot(x,get_frechet_pdf(x,3.,2.),label=r'$\\alpha=3;$ $\\beta=2$', linewidth=2, color='pink')\n",
        "ax.grid(True)\n",
        "ax.set_xlabel(\"x\")\n",
        "ax.set_ylabel(\"Frechet Distribution PDF\")\n",
        "ax.legend(loc=1)\n",
        "ax.set_xlim(0,5)\n",
        "ax.set_ylim(0,1.2)\n",
        "\n"
      ],
      "metadata": {
        "colab": {
          "base_uri": "https://localhost:8080/",
          "height": 410
        },
        "id": "HwW5UKwLJ0sW",
        "outputId": "e7f8f68c-b8bd-49e0-8c85-557d20336e90"
      },
      "execution_count": null,
      "outputs": [
        {
          "output_type": "stream",
          "name": "stderr",
          "text": [
            "<ipython-input-12-50286a4a7bcc>:3: RuntimeWarning: divide by zero encountered in power\n",
            "  y = (alpha/beta) * (((x-gama)/beta)**(-1-alpha)) * np.exp(- ((x-gama)/beta)**(-alpha) )\n",
            "<ipython-input-12-50286a4a7bcc>:3: RuntimeWarning: divide by zero encountered in reciprocal\n",
            "  y = (alpha/beta) * (((x-gama)/beta)**(-1-alpha)) * np.exp(- ((x-gama)/beta)**(-alpha) )\n",
            "<ipython-input-12-50286a4a7bcc>:3: RuntimeWarning: invalid value encountered in multiply\n",
            "  y = (alpha/beta) * (((x-gama)/beta)**(-1-alpha)) * np.exp(- ((x-gama)/beta)**(-alpha) )\n"
          ]
        },
        {
          "output_type": "execute_result",
          "data": {
            "text/plain": [
              "(0.0, 1.2)"
            ]
          },
          "metadata": {},
          "execution_count": 17
        },
        {
          "output_type": "display_data",
          "data": {
            "text/plain": [
              "<Figure size 432x288 with 1 Axes>"
            ],
            "image/png": "[encoded data removed]"
          },
          "metadata": {
            "needs_background": "light"
          }
        }
      ]
    },
    {
      "cell_type": "code",
      "source": [],
      "metadata": {
        "id": "_ZDugYueQyu3"
      },
      "execution_count": null,
      "outputs": []
    },
    {
      "cell_type": "markdown",
      "source": [
        "# Question 02"
      ],
      "metadata": {
        "id": "GYMMYSCCVlHN"
      }
    },
    {
      "cell_type": "markdown",
      "source": [
        "## Cross-entropy:\n",
        "Cross-entropy is a measure of the difference between two probability distributions. It is often used in machine learning as a loss function to train classification models. Given two probability distributions $p$ and $q$, the cross-entropy is defined as:\n",
        "\n",
        "$H(p, q) = -\\sum_{i} p_i \\log q_i$\n",
        "\n",
        "where $i$ is the index of the event, and $p_i$ and $q_i$ are the probabilities of the $i$th event according to distributions $p$ and $q$, respectively."
      ],
      "metadata": {
        "id": "V01-9OJ7UfSD"
      }
    },
    {
      "cell_type": "code",
      "source": [
        "def cross_entropy(X: pd.Series, Y: pd.Series) -> float:   \n",
        "    assert np.bincount(x)==np.bincount(Y)\n",
        "    n_unique_elements = np.bincount(X)# gives number of unique elements for each element\n",
        "    pi_x = n_unique_elements/len(X)\n",
        "    pi_y = n_unique_elements/len(Y)\n",
        "    entrop=0\n",
        "    for i in range(len(pi_x)):\n",
        "        if pi_y[i]!=0:\n",
        "            entrop-=(pi_x[i]*math.log2(pi_y[i]))\n",
        "    return entrop \n"
      ],
      "metadata": {
        "id": "wLvw1Z3eUqCN"
      },
      "execution_count": null,
      "outputs": []
    },
    {
      "cell_type": "markdown",
      "source": [
        "# Entropy"
      ],
      "metadata": {
        "id": "ilZikEzmVzVl"
      }
    },
    {
      "cell_type": "markdown",
      "source": [
        "Entropy is a measure of the uncertainty or randomness of a probability distribution. It is defined as:\n",
        "\n",
        "$H(p) = -\\sum_{x} p(i) \\log p(i)$\n",
        "\n",
        "where $i$ is the event and $p(i)$ is the probability of the event $i$."
      ],
      "metadata": {
        "id": "Bx3PzLHeV_QU"
      }
    },
    {
      "cell_type": "code",
      "source": [
        "def entropy(Y: pd.Series) -> float:   \n",
        "    n_unique_elements = np.bincount(Y)# gives number of unique elements for each element\n",
        "    pi = n_unique_elements/len(Y)\n",
        "    entrop=0\n",
        "    for i in pi:\n",
        "        if i!=0:\n",
        "            entrop-=(i*math.log2(i))\n",
        "    return entrop "
      ],
      "metadata": {
        "id": "rWZvmklAWJgi"
      },
      "execution_count": null,
      "outputs": []
    },
    {
      "cell_type": "markdown",
      "source": [
        "#Mutual information\n",
        "Mutual information is a measure of the amount of information that two random variables share. It is defined as:\n",
        "\n",
        "I(X; Y) = ∑(x in X, y in Y) p(x,y) * log(p(x,y) / (p(x) * p(y)))\n",
        "\n",
        "where X and Y are random variables, p(x,y) is the joint probability distribution of X and Y, p(x) is the marginal probability distribution of X, and p(y) is the marginal probability distribution of Y."
      ],
      "metadata": {
        "id": "w4evp7AYaTck"
      }
    },
    {
      "cell_type": "code",
      "source": [
        "def mutual_information(p_xy, p_x, p_y):\n",
        "  y = np.sum(p_xy * np.log(p_xy / (p_x.reshape(-1, 1) * p_y)))\n",
        "  return y"
      ],
      "metadata": {
        "id": "395dvoZGaVh-"
      },
      "execution_count": null,
      "outputs": []
    },
    {
      "cell_type": "markdown",
      "source": [
        "#Conditional Entropy\n",
        "Conditional entropy is a measure of the amount of uncertainty or randomness in a probability distribution given another variable. It is defined as:\n",
        "\n",
        "H(Y|X) = -∑(x in X, y in Y) p(x,y) * log(p(y|x))\n",
        "\n",
        "where X and Y are random variables, p(x,y) is the joint probability distribution of X and Y, and p(y|x) is the conditional probability distribution of Y given X."
      ],
      "metadata": {
        "id": "jNd33lW8bkws"
      }
    },
    {
      "cell_type": "code",
      "source": [
        "def conditional_entropy(p_xy, p_x):\n",
        "    p_y_given_x = p_xy / p_x.reshape(-1, 1)\n",
        "    p_y_given_x[p_y_given_x == 0] = 1\n",
        "    cond_ent =  -np.sum(p_xy * np.log(p_y_given_x))\n",
        "    return cond_ent\n"
      ],
      "metadata": {
        "id": "Uhaf07lebzws"
      },
      "execution_count": null,
      "outputs": []
    },
    {
      "cell_type": "markdown",
      "source": [
        "#KL Divergence\n",
        "It is a measure of the difference between two probability distributions. It is defined as:\n",
        "\n",
        "KL(p || q) = ∑(x in X) p(x) * log(p(x) / q(x))\n",
        "\n",
        "where p and q are probability distributions over the same set of events X."
      ],
      "metadata": {
        "id": "kLL9mcKAcRNe"
      }
    },
    {
      "cell_type": "code",
      "source": [
        "def kl_divergence(p, q):\n",
        "    y =  np.sum(p * np.log(p / q))\n",
        "    return y"
      ],
      "metadata": {
        "id": "yTYYxLCrcwFE"
      },
      "execution_count": null,
      "outputs": []
    },
    {
      "cell_type": "markdown",
      "source": [
        "# Question 03"
      ],
      "metadata": {
        "id": "4fhFT8N8ieAO"
      }
    },
    {
      "cell_type": "markdown",
      "source": [
        "# Question 05"
      ],
      "metadata": {
        "id": "0kySRn4JK284"
      }
    },
    {
      "cell_type": "markdown",
      "source": [
        "## Summary of the given paper\n",
        "\n",
        "The paper proposes a novel trackable approximation method called ‘BatchBALD’ to address the problem of selecting batches of informative samples to label, which is crucial for efficient active learning. This is a greedy linear-time 1/e-approximate algorithm that can be effectively cached and dynamically programmed. The approach uses a measure of uncertainty called mutual information (MI) to select samples that are most informative about the model's predictions. However, selecting the highest MI samples can result in redundant or similar samples, leading to inefficiencies in labelling and training.  This reduces the need for large labelled datasets and can improve model performance. BatchBALD improves on previous approaches by considering diversity in the selected batches. It achieves this by maximizing the marginal diversity of the batch, which measures how diverse the selected samples are with respect to each other. This results in batches that contain samples with high MI scores but also samples that are diverse and representative of the unlabeled dataset.\n",
        "\n",
        "The technique is designed for deep Bayesian active learning, where the model has a probability distribution over the predicted labels, and the uncertainty is captured by the variance of this distribution. BatchBALD efficiently estimates the MI of a batch of samples by using a Monte Carlo approximation, which involves drawing multiple samples from the model's predictive distribution. Experimental results demonstrate that BatchBALD outperforms previous batch acquisition techniques on a range of datasets and tasks and achieves state-of-the-art results on several benchmark datasets. \n",
        "\n",
        "In conclusion, This paper promises BatchBALD is an effective and efficient approach for batch acquisition in deep Bayesian active learning, which can significantly reduce the number of labelled samples required for model training.\n",
        "\n",
        "\n",
        "\n",
        "\n",
        "\n"
      ],
      "metadata": {
        "id": "ZPJV93awK99o"
      }
    },
    {
      "cell_type": "markdown",
      "source": [
        "#   Question 07"
      ],
      "metadata": {
        "id": "FuUZEh5IVlXm"
      }
    },
    {
      "cell_type": "markdown",
      "source": [
        "#(a) Analytical Solution using Bayes Rule:\n",
        "\n",
        "Let A be the event that the chosen coin follows a Kumaraswamy distribution with a=2, b=3, and let B be the event that the result of the 10 coin tosses is [H, T, H, H, T, H, H, H, H, H]. We want to find the posterior probability of event A given the evidence B, which can be computed using Bayes rule as follows:\n",
        "\n",
        "P(A|B) = P(B|A) * P(A) / P(B)\n",
        "\n",
        "where,\n",
        "P(B|A) = probability of observing evidence B given that the coin follows a Kumaraswamy distribution with a=2, b=3. This can be computed using the probability mass function of the Kumaraswamy distribution, which is given by:\n",
        "\n",
        "f(x;a,b) = ab(x**(a-1))*((1-xa)(b-1))\n",
        "\n",
        "Hence, the probability of observing evidence B given that the coin follows a Kumaraswamy distribution with a=2, b=3 is:\n",
        "\n",
        "P(B|A) = f(0.8;2,3) * f(0.2;2,3) * f(0.8;2,3) * f(0.8;2,3) * f(0.2;2,3) * f(0.8;2,3) * f(0.8;2,3) * f(0.8;2,3) * f(0.8;2,3) * f(0.8;2,3)\n",
        "= 0.0983\n",
        "\n",
        "P(A) = prior probability of choosing a coin which is equal to 1/2 since there are 2 types of coins in the box.\n",
        "\n",
        "P(B) = probability of observing evidence B, which can be computed by summing the joint probabilities of A and B over all possible values of A:\n",
        "\n",
        "P(B) = P(A)*P(B|A) + P(A')*P(B|A')\n",
        "<br>\n",
        "P(B)  = (1/2)*P(B|A) + (1/2)*P(B|A') \n",
        "\n",
        "where A' is the complement of A, i.e., the event that the chosen coin does not follow a Kumaraswamy distribution with a=2, b=3. The probability of observing evidence B given that the coin does not follow a Kumaraswamy distribution with a=2, b=3 is 1/(2^10), since there are 2^10 possible outcomes of 10 coin tosses and all of them are equally likely.\n",
        "\n",
        "Therefore,\n",
        "\n",
        "P(B) = (1/2)0.0983 + (1/2)(1/2^10)\n",
        "= 0.0492\n",
        "\n",
        "Finally, we can compute the posterior probability of event A given the evidence B as:\n",
        "\n",
        "P(A|B) = P(B|A) * P(A) / P(B)\n",
        "= 0.0983 * 1/2 / 0.0492\n",
        "= 0.999\n",
        "\n",
        "Hence, the probability distribution of the coin that we picked up is a Kumaraswamy distribution with a=2, b=3 with a probability of 0.999, and a uniform distribution with a probability of 0.001."
      ],
      "metadata": {
        "id": "vqp3RAmuVq8i"
      }
    },
    {
      "cell_type": "markdown",
      "source": [
        "#Using Blackjax lib"
      ],
      "metadata": {
        "id": "1BY6TLR4uK5W"
      }
    },
    {
      "cell_type": "code",
      "source": [
        "import jax.numpy as np\n",
        "import jax.random as random\n",
        "import blackjax.hmc as hmc\n",
        "\n",
        "import matplotlib.pyplot as plt\n",
        "\n",
        "# Define the likelihood function\n",
        "def likelihood(data, a, b):\n",
        "    p = 1 - (1 - np.power(a, data)) * (1 - np.power(b, 1 - data))\n",
        "    return np.prod(p)\n",
        "\n",
        "# Define the prior distribution\n",
        "def prior(a, b):\n",
        "    return np.power(a, 1.9) * np.power(b, 2.9) * (a + b)**(-4.8)\n",
        "\n",
        "# Define the log posterior distribution\n",
        "def log_posterior(params, data):\n",
        "    a, b = params\n",
        "    if a < 0 or b < 0:\n",
        "        return -np.inf\n",
        "    else:\n",
        "        return np.log(likelihood(data, a, b)) + np.log(prior(a, b))\n",
        "\n",
        "# Define the data\n",
        "data = np.array([1, 0, 1, 1, 0, 1, 1, 1, 1, 1])\n",
        "\n",
        "# Define the initial state for the sampler\n",
        "init_state = [random.uniform(random.PRNGKey(0), (0, 1)), random.uniform(random.PRNGKey(1), (0, 1))]\n",
        "\n",
        "# Run the NUTS sampler\n",
        "samples, _ = hmc.sample(log_posterior, init_state, args=(data,), num_samples=10000)\n",
        "\n",
        "# Extract the posterior samples\n",
        "a_samples = samples[:, 0]\n",
        "b_samples = samples[:, 1]\n",
        "\n",
        "\n",
        "\n",
        "# Plot the posterior distribution of a\n",
        "plt.hist(a_samples, bins=50, density=True)\n",
        "plt.title('Posterior distribution of a')\n",
        "plt.show()\n",
        "\n",
        "# Plot the posterior distribution of b\n",
        "plt.hist(b_samples, bins=50, density=True)\n",
        "plt.title('Posterior distribution of b')\n",
        "plt.show()\n"
      ],
      "metadata": {
        "id": "UvaUOCEruQCM"
      },
      "execution_count": null,
      "outputs": []
    },
    {
      "cell_type": "markdown",
      "source": [
        "#(C) Implementation of variational inference from scratch "
      ],
      "metadata": {
        "id": "Jg9A0v6_qMTw"
      }
    },
    {
      "cell_type": "code",
      "source": [
        "import jax\n",
        "import jax.numpy as jnp\n",
        "import scipy\n",
        "import matplotlib.pyplot as plt\n",
        "\n",
        "# Define prior distribution\n",
        "prior = jax.scipy.stats.beta(a=2, b=3)\n",
        "\n",
        "# Define likelihood function\n",
        "def likelihood(p, data):\n",
        "    num_heads = jnp.sum(data == 'H')\n",
        "    num_tails = jnp.sum(data == 'T')\n",
        "    return jnp.power(p, num_heads) * jnp.power(1 - p, num_tails)\n",
        "\n",
        "# Define evidence lower bound (ELBO)\n",
        "def elbo(params, data, prior, num_samples=100):\n",
        "    mu, sigma = params\n",
        "    q = jax.scipy.stats.norm(loc=mu, scale=jnp.sqrt(sigma))\n",
        "    samples = q.rvs(num_samples)\n",
        "    log_likelihoods = jnp.sum(jnp.log(likelihood(samples, data)))\n",
        "    kl_divergence = jnp.sum(q.logpdf(samples) - prior.logpdf(samples))\n",
        "    return log_likelihoods - kl_divergence / num_samples\n",
        "\n",
        "data = np.array(['H','T','H','H','T','H','H','H'])\n",
        "# Define initial variational parameters\n",
        "mu_init = jnp.full_like(data, 0.5)\n",
        "sigma_init = jnp.full_like(data, 1.0)\n",
        "\n",
        "# Define gradient of ELBO\n",
        "grad_elbo = jax.grad(elbo)\n",
        "\n",
        "# Define variational inference function\n",
        "def variational_inference(data, prior, num_iterations=5000, learning_rate=0.01, mu_init=mu_init, sigma_init=sigma_init):\n",
        "    mu = mu_init\n",
        "    sigma = sigma_init\n",
        "    elbos = []\n",
        "    for i in range(num_iterations):\n",
        "        params = (mu, sigma)\n",
        "        elbo_value = elbo(params, data, prior)\n",
        "        elbos.append(elbo_value)\n",
        "        mu_grad, sigma_grad = grad_elbo(params, data, prior)\n",
        "        mu = mu + learning_rate * mu_grad\n",
        "        sigma = sigma + learning_rate * sigma_grad\n",
        "    return mu, sigma, elbos\n",
        "\n",
        "# Perform variational inference\n",
        "mu_opt, sigma_opt, elbos = variational_inference(data, prior)\n",
        "\n",
        "# Define posterior distribution based on optimal variational parameters\n",
        "posterior = jax.scipy.stats.norm(loc=mu_opt, scale=jnp.sqrt(sigma_opt))\n",
        "\n",
        "# Plot ELBO vs. iterations\n",
        "plt.plot(elbos)\n",
        "plt.xlabel('Iteration')\n",
        "plt.ylabel('Evidence lower bound (ELBO)')\n",
        "plt.title('ELBO vs. iterations')\n",
        "plt.show()\n",
        "\n",
        "# Plot posterior distribution\n",
        "x = jnp.linspace(0, 1, 100)\n",
        "plt.plot(x, posterior.pdf(x))\n",
        "plt.xlabel('p')\n",
        "plt.ylabel('Posterior density')\n",
        "plt.title('Posterior distribution of p')\n",
        "plt.show()\n"
      ],
      "metadata": {
        "id": "7jKhpMAIZFNz"
      },
      "execution_count": null,
      "outputs": []
    },
    {
      "cell_type": "code",
      "source": [],
      "metadata": {
        "id": "50KVbEIiu7Zr"
      },
      "execution_count": null,
      "outputs": []
    }
  ]
}